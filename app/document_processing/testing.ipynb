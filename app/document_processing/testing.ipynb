{
 "cells": [
  {
   "cell_type": "code",
   "execution_count": 1,
   "id": "b9a62074",
   "metadata": {},
   "outputs": [
    {
     "name": "stderr",
     "output_type": "stream",
     "text": [
      "/Users/sangeeths/miniconda3/envs/retrievalLLM/lib/python3.12/site-packages/tqdm/auto.py:21: TqdmWarning: IProgress not found. Please update jupyter and ipywidgets. See https://ipywidgets.readthedocs.io/en/stable/user_install.html\n",
      "  from .autonotebook import tqdm as notebook_tqdm\n"
     ]
    }
   ],
   "source": [
    "import os\n",
    "import cv2\n",
    "import torch\n",
    "from pathlib import Path\n",
    "from typing import Optional\n",
    "from pdf2image import convert_from_path\n",
    "from huggingface_hub import hf_hub_download\n",
    "from doclayout_yolo import YOLOv10"
   ]
  },
  {
   "cell_type": "code",
   "execution_count": 2,
   "id": "8a142d5b",
   "metadata": {},
   "outputs": [],
   "source": [
    "class DocumentLayoutAnalyzer:\n",
    "    \"\"\"\n",
    "    Analyzes PDF layout using DocLayout-YOLO and saves cropped elements by type.\n",
    "    Props to: https://github.com/opendatalab/DocLayout-YOLO/tree/main?tab=readme-ov-file\n",
    "    \"\"\"\n",
    "\n",
    "    def __init__(\n",
    "        self,\n",
    "        model_repo: str = \"juliozhao/DocLayout-YOLO-DocStructBench\",\n",
    "        model_filename: str = \"doclayout_yolo_docstructbench_imgsz1024.pt\",\n",
    "        output_dir: str = \"layout_outputs\",\n",
    "        conf_threshold: float = 0.25,\n",
    "        image_size: int = 1024,\n",
    "    ):\n",
    "        self.device = (\n",
    "            \"cuda\" if torch.cuda.is_available() else \"mps\" if torch.backends.mps.is_available() else \"cpu\"\n",
    "        )\n",
    "        model_path = hf_hub_download(repo_id=model_repo, filename=model_filename)\n",
    "        self.model = YOLOv10(model_path)\n",
    "        self.output_dir = Path(output_dir)\n",
    "        self.conf = conf_threshold\n",
    "        self.imgsz = image_size\n",
    "        self.output_dir.mkdir(parents=True, exist_ok=True)\n",
    "\n",
    "        print(f\"[INFO] Model loaded on {self.device}\")\n",
    "\n",
    "    def analyze_pdf(self, pdf_path: str):\n",
    "        \"\"\"\n",
    "        Analyze a PDF file and extract layout elements as image crops.\n",
    "\n",
    "        Args:\n",
    "            pdf_path: Path to the PDF file.\n",
    "        \"\"\"\n",
    "        print(f\"[INFO] Analyzing PDF: {pdf_path}\")\n",
    "        pages = convert_from_path(pdf_path)\n",
    "        for i, page in enumerate(pages):\n",
    "            image_path = self.output_dir / f\"page_{i}.jpg\"\n",
    "            page.save(image_path)\n",
    "            self._analyze_image(str(image_path), i)\n",
    "\n",
    "    def _analyze_image(self, image_path: str, page_number: int):\n",
    "        \"\"\"\n",
    "        Analyze a single image using the YOLOv10 layout model.\n",
    "\n",
    "        Args:\n",
    "            image_path: Path to the image file.\n",
    "            page_number: Page number for output naming.\n",
    "        \"\"\"\n",
    "        print(f\"[INFO] Processing page {page_number}...\")\n",
    "        results = self.model.predict(\n",
    "            image_path,\n",
    "            imgsz=self.imgsz,\n",
    "            conf=self.conf,\n",
    "            device=self.device,\n",
    "        )\n",
    "\n",
    "        image = cv2.imread(image_path)\n",
    "        for i, det in enumerate(results[0].boxes):\n",
    "            xyxy = list(map(int, det.xyxy[0].tolist()))\n",
    "            cls_id = int(det.cls[0])\n",
    "            label = self.model.model.names[cls_id]\n",
    "\n",
    "            crop = image[xyxy[1]:xyxy[3], xyxy[0]:xyxy[2]]\n",
    "\n",
    "            label_dir = self.output_dir / label\n",
    "            label_dir.mkdir(parents=True, exist_ok=True)\n",
    "\n",
    "            out_path = label_dir / f\"page{page_number}_det{i}.jpg\"\n",
    "            cv2.imwrite(str(out_path), crop)\n",
    "\n",
    "        print(f\"[INFO] Page {page_number} layout elements saved.\")\n"
   ]
  },
  {
   "cell_type": "code",
   "execution_count": 3,
   "id": "8d2d38b2",
   "metadata": {},
   "outputs": [
    {
     "name": "stdout",
     "output_type": "stream",
     "text": [
      "[INFO] Model loaded on mps\n"
     ]
    }
   ],
   "source": [
    "analyzer = DocumentLayoutAnalyzer() \n"
   ]
  },
  {
   "cell_type": "code",
   "execution_count": 4,
   "id": "897bf7d8",
   "metadata": {},
   "outputs": [
    {
     "name": "stdout",
     "output_type": "stream",
     "text": [
      "[INFO] Analyzing PDF: ../../pdfs/Test2.pdf\n",
      "[INFO] Processing page 0...\n",
      "\n",
      "image 1/1 /Users/sangeeths/Develop/retrieval_augmented_generation/app/document_processing/layout_outputs/page_0.jpg: 1024x736 3 titles, 8 plain texts, 4 abandons, 488.1ms\n",
      "Speed: 43.3ms preprocess, 488.1ms inference, 2864.5ms postprocess per image at shape (1, 3, 1024, 736)\n",
      "[INFO] Page 0 layout elements saved.\n",
      "[INFO] Processing page 1...\n",
      "\n",
      "image 1/1 /Users/sangeeths/Develop/retrieval_augmented_generation/app/document_processing/layout_outputs/page_1.jpg: 1024x736 2 titles, 10 plain texts, 2 abandons, 44.4ms\n",
      "Speed: 22.1ms preprocess, 44.4ms inference, 10.0ms postprocess per image at shape (1, 3, 1024, 736)\n",
      "[INFO] Page 1 layout elements saved.\n",
      "[INFO] Processing page 2...\n",
      "\n",
      "image 1/1 /Users/sangeeths/Develop/retrieval_augmented_generation/app/document_processing/layout_outputs/page_2.jpg: 1024x736 1 title, 8 plain texts, 2 abandons, 1 figure, 1 figure_caption, 2 isolate_formulas, 33.9ms\n",
      "Speed: 3.9ms preprocess, 33.9ms inference, 2.1ms postprocess per image at shape (1, 3, 1024, 736)\n",
      "[INFO] Page 2 layout elements saved.\n",
      "[INFO] Processing page 3...\n",
      "\n",
      "image 1/1 /Users/sangeeths/Develop/retrieval_augmented_generation/app/document_processing/layout_outputs/page_3.jpg: 1024x736 4 titles, 10 plain texts, 2 abandons, 33.7ms\n",
      "Speed: 3.5ms preprocess, 33.7ms inference, 9.3ms postprocess per image at shape (1, 3, 1024, 736)\n",
      "[INFO] Page 3 layout elements saved.\n",
      "[INFO] Processing page 4...\n",
      "\n",
      "image 1/1 /Users/sangeeths/Develop/retrieval_augmented_generation/app/document_processing/layout_outputs/page_4.jpg: 1024x736 4 titles, 10 plain texts, 2 abandons, 1 figure_caption, 34.3ms\n",
      "Speed: 2.8ms preprocess, 34.3ms inference, 9.6ms postprocess per image at shape (1, 3, 1024, 736)\n",
      "[INFO] Page 4 layout elements saved.\n",
      "[INFO] Processing page 5...\n",
      "\n",
      "image 1/1 /Users/sangeeths/Develop/retrieval_augmented_generation/app/document_processing/layout_outputs/page_5.jpg: 1024x736 3 titles, 8 plain texts, 2 abandons, 3 tables, 2 table_captions, 34.0ms\n",
      "Speed: 3.3ms preprocess, 34.0ms inference, 9.8ms postprocess per image at shape (1, 3, 1024, 736)\n",
      "[INFO] Page 5 layout elements saved.\n",
      "[INFO] Processing page 6...\n",
      "\n",
      "image 1/1 /Users/sangeeths/Develop/retrieval_augmented_generation/app/document_processing/layout_outputs/page_6.jpg: 1024x736 7 plain texts, 1 abandon, 2 figures, 3 figure_captions, 34.3ms\n",
      "Speed: 4.0ms preprocess, 34.3ms inference, 9.7ms postprocess per image at shape (1, 3, 1024, 736)\n",
      "[INFO] Page 6 layout elements saved.\n",
      "[INFO] Processing page 7...\n",
      "\n",
      "image 1/1 /Users/sangeeths/Develop/retrieval_augmented_generation/app/document_processing/layout_outputs/page_7.jpg: 1024x736 2 titles, 15 plain texts, 1 abandon, 1 figure, 1 figure_caption, 34.3ms\n",
      "Speed: 3.5ms preprocess, 34.3ms inference, 10.1ms postprocess per image at shape (1, 3, 1024, 736)\n",
      "[INFO] Page 7 layout elements saved.\n"
     ]
    }
   ],
   "source": [
    "analyzer.analyze_pdf(\"../../pdfs/Test2.pdf\")"
   ]
  }
 ],
 "metadata": {
  "kernelspec": {
   "display_name": "retrievalLLM",
   "language": "python",
   "name": "python3"
  },
  "language_info": {
   "codemirror_mode": {
    "name": "ipython",
    "version": 3
   },
   "file_extension": ".py",
   "mimetype": "text/x-python",
   "name": "python",
   "nbconvert_exporter": "python",
   "pygments_lexer": "ipython3",
   "version": "3.12.9"
  }
 },
 "nbformat": 4,
 "nbformat_minor": 5
}
